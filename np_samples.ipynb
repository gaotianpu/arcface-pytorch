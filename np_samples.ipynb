{
 "cells": [
  {
   "cell_type": "code",
   "execution_count": 1,
   "metadata": {},
   "outputs": [],
   "source": [
    "import numpy as np"
   ]
  },
  {
   "cell_type": "code",
   "execution_count": 2,
   "metadata": {},
   "outputs": [
    {
     "name": "stdout",
     "output_type": "stream",
     "text": [
      "(2, 3)\n",
      "[[1. 2. 3.]\n",
      " [4. 5. 6.]]\n",
      "[1 2 3]\n",
      "[1 2 3]\n"
     ]
    }
   ],
   "source": [
    "# asXX\n",
    "a = np.array([[1,2,3],[4,5,6]])\n",
    "print(a.shape)\n",
    "a = a.astype(np.float32,copy=False) #copy=False ?\n",
    "print(a)\n",
    "\n",
    "a = [1,2,3]\n",
    "b = np.asarray(a) #asarray 和 array有什么区别？\n",
    "print(b)\n",
    "c = np.array(a)\n",
    "print(c)"
   ]
  },
  {
   "cell_type": "code",
   "execution_count": 3,
   "metadata": {},
   "outputs": [
    {
     "name": "stdout",
     "output_type": "stream",
     "text": [
      "(2, 3) (2, 3)\n",
      "[[1 2 3]\n",
      " [4 5 6]]\n",
      "[[3 2 1]\n",
      " [6 5 4]]\n"
     ]
    }
   ],
   "source": [
    "a = np.array([[1,2,3],[4,5,6]])\n",
    "b = np.fliplr(a) #左右对称置换\n",
    "print(a.shape,b.shape)\n",
    "print(a)\n",
    "print(b)"
   ]
  },
  {
   "cell_type": "code",
   "execution_count": 4,
   "metadata": {},
   "outputs": [
    {
     "name": "stdout",
     "output_type": "stream",
     "text": [
      "a0: [1 2 3]\n",
      "a1: [4 5 6]\n",
      "dstack: [[[1 4]\n",
      "  [2 5]\n",
      "  [3 6]]]\n",
      "hstack: [1 2 3 4 5 6]\n",
      "vstack: [[1 2 3]\n",
      " [4 5 6]]\n",
      "concatenate-0: [1 2 3 4 5 6]\n"
     ]
    }
   ],
   "source": [
    "# Xstack\n",
    "a0 = np.array([1,2,3])\n",
    "a1 = np.array([4,5,6])\n",
    "print(\"a0:\",a0)\n",
    "print(\"a1:\",a1)\n",
    "\n",
    "c = np.dstack((a0,a1)) #\n",
    "print(\"dstack:\",c)\n",
    "\n",
    "c1 = np.hstack((a0,a1)) #Horizontal,水平\n",
    "print(\"hstack:\",c1)\n",
    "\n",
    "c2 = np.vstack((a0,a1)) #Vertical，垂直\n",
    "print(\"vstack:\",c2)\n",
    "\n",
    "c3 = np.concatenate((a0,a1), axis=0) #等价于hstack？\n",
    "print(\"concatenate-0:\",c3)\n",
    "\n",
    "# c4 = np.concatenate((a0,a1), axis=1) #等价于vstack？\n",
    "# print(\"concatenate-1:\",c4) # AxisError: axis 1 is out of bounds for array of dimension 1"
   ]
  },
  {
   "cell_type": "code",
   "execution_count": 5,
   "metadata": {},
   "outputs": [
    {
     "name": "stdout",
     "output_type": "stream",
     "text": [
      "c0: [[ 1  5  9]\n",
      " [ 2  6 10]\n",
      " [ 3  7 11]\n",
      " [ 4  8 12]]\n"
     ]
    }
   ],
   "source": [
    "# image = image.transpose((2, 0, 1))\n",
    "a = np.array([[1,2,3,4],[5,6,7,8],[9,10,11,12]])\n",
    "c0 = a.transpose((1,0))\n",
    "print('c0:',c0)"
   ]
  },
  {
   "cell_type": "code",
   "execution_count": 6,
   "metadata": {},
   "outputs": [
    {
     "name": "stdout",
     "output_type": "stream",
     "text": [
      "0.6666666666666666\n",
      "0.7071067811865475\n",
      "d: 2.0\n",
      "e: 2.0\n",
      "f: 1.4142135623730951\n"
     ]
    }
   ],
   "source": [
    "a0 = np.array([1,0,0,1,1,1])\n",
    "a1 = np.array([1.0,0,0,0,1,0])\n",
    "acc = np.mean( (a0 == a1).astype(int) )\n",
    "print(acc)\n",
    "\n",
    "c = np.dot(a0, a1) / (np.linalg.norm(a0) * np.linalg.norm(a1))  #cosin距离\n",
    "print(c)\n",
    "d = np.dot(a0, a1)\n",
    "e = np.linalg.norm(a0)\n",
    "f = np.linalg.norm(a1)\n",
    "print('d:',d)\n",
    "print('e:',e)\n",
    "print('f:',f)"
   ]
  },
  {
   "cell_type": "code",
   "execution_count": null,
   "metadata": {},
   "outputs": [],
   "source": []
  }
 ],
 "metadata": {
  "kernelspec": {
   "display_name": "Python 3",
   "language": "python",
   "name": "python3"
  },
  "language_info": {
   "codemirror_mode": {
    "name": "ipython",
    "version": 3
   },
   "file_extension": ".py",
   "mimetype": "text/x-python",
   "name": "python",
   "nbconvert_exporter": "python",
   "pygments_lexer": "ipython3",
   "version": "3.7.1"
  }
 },
 "nbformat": 4,
 "nbformat_minor": 2
}
