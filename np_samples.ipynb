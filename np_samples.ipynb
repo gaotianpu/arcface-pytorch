{
 "cells": [
  {
   "cell_type": "code",
   "execution_count": 1,
   "metadata": {},
   "outputs": [],
   "source": [
    "import numpy as np"
   ]
  },
  {
   "cell_type": "code",
   "execution_count": 15,
   "metadata": {},
   "outputs": [
    {
     "name": "stdout",
     "output_type": "stream",
     "text": [
      "(2, 3)\n",
      "a: [[1. 2. 3.]\n",
      " [4. 5. 6.]]\n",
      "b: [1 2 3]\n",
      "c: [1 2 3]\n"
     ]
    }
   ],
   "source": [
    "#1.类型转换 asXX\n",
    "a = np.array([[1,2,3],[4,5,6]])\n",
    "print(a.shape)\n",
    "a = a.astype(np.float32,copy=False) #copy=False ?\n",
    "print(\"a:\", a)\n",
    "\n",
    "# asarray 和 array的主要区别？都是将数组转化为ndarray对象，\n",
    "# 当数据源是ndarray时，array仍然会copy出一个副本，占用新的内存，但asarray不会，而是与参数共享同一个内存。\n",
    "# https://stackoverflow.com/questions/14415741/numpy-array-vs-asarray\n",
    "# a = [1,2,3]\n",
    "b = np.asarray(a) \n",
    "print(\"b:\",b)\n",
    "c = np.array(a)\n",
    "print(\"c:\",c)"
   ]
  },
  {
   "cell_type": "code",
   "execution_count": 37,
   "metadata": {},
   "outputs": [
    {
     "name": "stdout",
     "output_type": "stream",
     "text": [
      "a0: [[1 2 3]]\n",
      "a1: [[4 5 6]]\n",
      "v: (3, 1) [[1]\n",
      " [2]\n",
      " [3]]\n",
      "dstack: (1, 3, 2) [[[1 4]\n",
      "  [2 5]\n",
      "  [3 6]]]\n",
      "hstack: (1, 6) [[1 2 3 4 5 6]]\n",
      "vstack: (2, 3) [[1 2 3]\n",
      " [4 5 6]]\n",
      "concatenate-0: (2, 3) [[1 2 3]\n",
      " [4 5 6]]\n",
      "concatenate-0: [[1 2 3]\n",
      " [4 5 6]]\n",
      "concatenate-1: [[1 2 3 4 5 6]]\n"
     ]
    }
   ],
   "source": [
    "#2.各种数据合并: Xstack，concatenate\n",
    "# https://drivingc.com/numpy/5af65a5c2392ec691e7279fb\n",
    "# hstack()、vstack（）、stack（）、dstack（）、vsplit（）、concatenate（）\n",
    "a0 = np.array([[1,2,3]])\n",
    "a1 = np.array([[4,5,6]])\n",
    "print(\"a0:\",a0)\n",
    "print(\"a1:\",a1)\n",
    "\n",
    "v = a0.reshape(-1,1)\n",
    "print(\"v:\", v.shape,v)\n",
    "\n",
    "c = np.dstack((a0,a1)) # 等价于 np.concatenate(tup,axis=2)\n",
    "print(\"dstack:\",c.shape,c)\n",
    "\n",
    "c1 = np.hstack((a0,a1)) #Horizontal,水平 等价于np.concatenate（tup,axis=1）\n",
    "print(\"hstack:\",c1.shape,c1)\n",
    "\n",
    "c2 = np.vstack((a0,a1)) #Vertical，垂直 等价于np.concatenate(tup,axis=0) \n",
    "print(\"vstack:\",c2.shape,c2)\n",
    "\n",
    "c3 = np.concatenate((a0,a1), axis=0) #等价于hstack？\n",
    "print(\"concatenate-0:\",c3.shape,c3)\n",
    "\n",
    "a0 = np.array([[1,2,3]])\n",
    "a1 = np.array([[4,5,6]])\n",
    "c4 = np.concatenate((a0,a1), axis=0) \n",
    "print(\"concatenate-0:\",c4) # AxisError: axis 1 is out of bounds for array of dimension 1\n",
    "c5 = np.concatenate((a0,a1), axis=1) \n",
    "print(\"concatenate-1:\",c5) # AxisError: axis 1 is out of bounds for array of dimension 1"
   ]
  },
  {
   "cell_type": "code",
   "execution_count": 25,
   "metadata": {},
   "outputs": [
    {
     "name": "stdout",
     "output_type": "stream",
     "text": [
      "(2, 3) (2, 3)\n",
      "a: [[1 2 3]\n",
      " [4 5 6]]\n",
      "b: [[3 2 1]\n",
      " [6 5 4]]\n",
      "c0: [[ 1  5  9]\n",
      " [ 2  6 10]\n",
      " [ 3  7 11]\n",
      " [ 4  8 12]]\n",
      "(2, 2)\n"
     ]
    }
   ],
   "source": [
    "#3.各种转置变换\n",
    "a = np.array([[1,2,3],[4,5,6]])\n",
    "b = np.fliplr(a) #左右对称置换\n",
    "print(a.shape,b.shape)\n",
    "print('a:', a)\n",
    "print('b:', b)\n",
    "\n",
    "# image = image.transpose((2, 0, 1))\n",
    "a = np.array([[1,2,3,4],[5,6,7,8],[9,10,11,12]])\n",
    "c0 = a.transpose((1,0))\n",
    "print('c0:',c0)"
   ]
  },
  {
   "cell_type": "code",
   "execution_count": 45,
   "metadata": {},
   "outputs": [
    {
     "name": "stdout",
     "output_type": "stream",
     "text": [
      "(2, 3) (2, 3)\n",
      "b.shape: (2, 3, 2)\n",
      "b: [[[1 3]\n",
      "  [2 2]\n",
      "  [3 1]]\n",
      "\n",
      " [[4 6]\n",
      "  [5 5]\n",
      "  [6 4]]]\n",
      "c: [[[1 2 3]\n",
      "  [4 5 6]]\n",
      "\n",
      " [[3 2 1]\n",
      "  [6 5 4]]]\n",
      "(2, 2, 3) (2, 1, 2, 3)\n",
      "\n",
      "d: [[[[1 2 3]\n",
      "   [4 5 6]]]\n",
      "\n",
      "\n",
      " [[[3 2 1]\n",
      "   [6 5 4]]]]\n",
      "[[1 2 3 4]]\n",
      "(1, 4)\n",
      "[[[1 2 3 4]]]\n"
     ]
    }
   ],
   "source": [
    "a = np.array([[1,2,3],[4,5,6]])\n",
    "a1 = np.fliplr(a)\n",
    "print(a.shape,a1.shape)\n",
    "b = np.dstack((a,a1))\n",
    "print('b.shape:',b.shape)\n",
    "print('b:',b)\n",
    "c = b.transpose((2,0,1))\n",
    "print('c:',c)\n",
    "\n",
    "d = c[:, np.newaxis, :, :]\n",
    "print(c.shape,d.shape)\n",
    "print('\\nd:', d)\n",
    "\n",
    "e=np.array([[1,2,3,4]])\n",
    "print(e)\n",
    "print(e.shape)\n",
    "e=e[:,np.newaxis,:]\n",
    "print(e)\n"
   ]
  },
  {
   "cell_type": "code",
   "execution_count": 21,
   "metadata": {},
   "outputs": [
    {
     "name": "stdout",
     "output_type": "stream",
     "text": [
      "0.6666666666666666\n",
      "0.7071067811865475\n",
      "d: 2\n",
      "e: 2.0\n",
      "f: 1.4142135623730951\n"
     ]
    }
   ],
   "source": [
    "#4.计算\n",
    "a0 = np.array([1,0,0,1,1,1])\n",
    "a1 = np.array([1,0,0,0,1,0])\n",
    "acc = np.mean( (a0 == a1).astype(int) )\n",
    "print(acc)\n",
    "\n",
    "# https://blog.csdn.net/u012160689/article/details/15341303\n",
    "# https://zhuanlan.zhihu.com/p/33217726\n",
    "c = np.dot(a0, a1) / (np.linalg.norm(a0) * np.linalg.norm(a1))  #cosin距离\n",
    "print(c)\n",
    "d = np.dot(a0, a1) #sum(a0i*a1i)\n",
    "e = np.linalg.norm(a0) #范数？直观解释\n",
    "# 默认2范数 各元素平方和的开方，计算向量长度\n",
    "f = np.linalg.norm(a1)\n",
    "print('d:',d)\n",
    "print('e:',e)\n",
    "print('f:',f)\n",
    "\n",
    "# 1-范数，向量元素绝对值之和\n",
    "# 2-范数，Euclid范数（欧几里得范数，常用计算向量长度），即向量元素绝对值的平方和再开方\n",
    "# 最大值-范数，所有向量元素绝对值中的最大值"
   ]
  },
  {
   "cell_type": "code",
   "execution_count": null,
   "metadata": {},
   "outputs": [],
   "source": []
  }
 ],
 "metadata": {
  "kernelspec": {
   "display_name": "Python 3",
   "language": "python",
   "name": "python3"
  },
  "language_info": {
   "codemirror_mode": {
    "name": "ipython",
    "version": 3
   },
   "file_extension": ".py",
   "mimetype": "text/x-python",
   "name": "python",
   "nbconvert_exporter": "python",
   "pygments_lexer": "ipython3",
   "version": "3.7.1"
  }
 },
 "nbformat": 4,
 "nbformat_minor": 2
}
